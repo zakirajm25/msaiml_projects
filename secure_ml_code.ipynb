{
 "cells": [
  {
   "cell_type": "markdown",
   "id": "3780af71",
   "metadata": {},
   "source": [
    "Unsecure Code"
   ]
  },
  {
   "cell_type": "code",
   "execution_count": null,
   "id": "7b901eeb",
   "metadata": {},
   "outputs": [],
   "source": [
    "import pandas as pd\n",
    "from sklearn.model_selection import train_test_split\n",
    "from sklearn.linear_model import LogisticRegression\n",
    "import pickle\n",
    "\n",
    "# Load dataset (Flaw: No data validation or sanitization)\n",
    "data = pd.read_csv('user_data.csv')\n",
    "\n",
    "# Split the dataset into features and target (Flaw: No input validation)\n",
    "X = data.iloc[:, :-1]\n",
    "y = data.iloc[:, -1]\n",
    "\n",
    "# Split the data into training and testing sets (Flaw: Fixed random state)\n",
    "X_train, X_test, y_train, y_test = train_test_split(X, y, test_size=0.2, random_state=42)\n",
    "\n",
    "# Train a simple logistic regression model (Flaw: No model security checks)\n",
    "model = LogisticRegression()\n",
    "model.fit(X_train, y_train)\n",
    "\n",
    "# Save the model to disk (Flaw: Unencrypted model saving)\n",
    "filename = 'finalized_model.sav'\n",
    "pickle.dump(model, open(filename, 'wb'))\n",
    "\n",
    "# Load the model from disk for later use (Flaw: No integrity checks on the loaded model)\n",
    "loaded_model = pickle.load(open(filename, 'rb'))\n",
    "result = loaded_model.score(X_test, y_test)\n",
    "print(f'Model Accuracy: {result:.2f}')"
   ]
  },
  {
   "cell_type": "markdown",
   "id": "91793659",
   "metadata": {},
   "source": [
    "Secure Code"
   ]
  },
  {
   "cell_type": "code",
   "execution_count": null,
   "id": "57d0c772",
   "metadata": {},
   "outputs": [],
   "source": [
    "import os\n",
    "import pandas as pd\n",
    "from sklearn.model_selection import train_test_split\n",
    "from sklearn.linear_model import LogisticRegression\n",
    "import pickle\n",
    "import hashlib\n",
    "import cryptography.fernet\n",
    "\n",
    "# Validate and sanitize input data\n",
    "def validate_data(df):\n",
    "    if df.isnull().values.any():\n",
    "        raise ValueError(\"Dataset contains null values. Please clean the data before processing.\")\n",
    "    return df\n",
    "\n",
    "# Load and validate dataset\n",
    "data = validate_data(pd.read_csv('user_data.csv'))\n",
    "\n",
    "# Split the dataset into features and target with validation\n",
    "X = validate_data(data.iloc[:, :-1])\n",
    "y = validate_data(data.iloc[:, -1])\n",
    "\n",
    "# Split the data into training and testing sets with a securely managed random state\n",
    "X_train, X_test, y_train, y_test = train_test_split(X, y, test_size=0.2, random_state=os.urandom(16))\n",
    "\n",
    "# Train a logistic regression model with added security considerations\n",
    "model = LogisticRegression()\n",
    "model.fit(X_train, y_train)\n",
    "\n",
    "# Encrypt model before saving\n",
    "key = cryptography.fernet.Fernet.generate_key()\n",
    "cipher = cryptography.fernet.Fernet(key)\n",
    "\n",
    "# Save the encrypted model to disk\n",
    "filename = 'finalized_model.sav'\n",
    "encrypted_model = cipher.encrypt(pickle.dumps(model))\n",
    "with open(filename, 'wb') as f:\n",
    "    f.write(encrypted_model)\n",
    "\n",
    "# Load the encrypted model from disk and verify its integrity\n",
    "with open(filename, 'rb') as f:\n",
    "    encrypted_model = f.read()\n",
    "    decrypted_model = cipher.decrypt(encrypted_model)\n",
    "\n",
    "loaded_model = pickle.loads(decrypted_model)\n",
    "\n",
    "# Compute hash of the loaded model\n",
    "loaded_model_hash = hashlib.sha256(decrypted_model).hexdigest()\n",
    "\n",
    "# Verify that the loaded model's hash matches the original\n",
    "original_model_hash = hashlib.sha256(pickle.dumps(model)).hexdigest()\n",
    "if loaded_model_hash != original_model_hash:\n",
    "    raise ValueError(\"Model integrity check failed. The model may have been tampered with.\")\n",
    "\n",
    "result = loaded_model.score(X_test, y_test)\n",
    "print(f'Model Accuracy: {result:.2f}')"
   ]
  }
 ],
 "metadata": {
  "kernelspec": {
   "display_name": "msaiml",
   "language": "python",
   "name": "python3"
  },
  "language_info": {
   "name": "python",
   "version": "3.10.18"
  }
 },
 "nbformat": 4,
 "nbformat_minor": 5
}
