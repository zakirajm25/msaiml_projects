{
 "cells": [
  {
   "cell_type": "code",
   "execution_count": 1,
   "id": "1e20bd18-5869-4270-b940-6127fdc83aa8",
   "metadata": {},
   "outputs": [],
   "source": [
    "import numpy as np\n",
    "import pandas as pd\n",
    "from sklearn.model_selection import train_test_split\n",
    "from sklearn.linear_model import LinearRegression\n",
    "from sklearn.metrics import mean_squared_error, r2_score\n",
    "import matplotlib.pyplot as plt"
   ]
  },
  {
   "cell_type": "code",
   "execution_count": 2,
   "id": "22df37da-1568-4dc4-b087-ae61f6529c4e",
   "metadata": {},
   "outputs": [
    {
     "data": {
      "text/html": [
       "<div>\n",
       "<style scoped>\n",
       "    .dataframe tbody tr th:only-of-type {\n",
       "        vertical-align: middle;\n",
       "    }\n",
       "\n",
       "    .dataframe tbody tr th {\n",
       "        vertical-align: top;\n",
       "    }\n",
       "\n",
       "    .dataframe thead th {\n",
       "        text-align: right;\n",
       "    }\n",
       "</style>\n",
       "<table border=\"1\" class=\"dataframe\">\n",
       "  <thead>\n",
       "    <tr style=\"text-align: right;\">\n",
       "      <th></th>\n",
       "      <th>Square Footage</th>\n",
       "      <th>Price</th>\n",
       "    </tr>\n",
       "  </thead>\n",
       "  <tbody>\n",
       "    <tr>\n",
       "      <th>0</th>\n",
       "      <td>1500</td>\n",
       "      <td>200000</td>\n",
       "    </tr>\n",
       "    <tr>\n",
       "      <th>1</th>\n",
       "      <td>1800</td>\n",
       "      <td>250000</td>\n",
       "    </tr>\n",
       "    <tr>\n",
       "      <th>2</th>\n",
       "      <td>2400</td>\n",
       "      <td>300000</td>\n",
       "    </tr>\n",
       "    <tr>\n",
       "      <th>3</th>\n",
       "      <td>3000</td>\n",
       "      <td>350000</td>\n",
       "    </tr>\n",
       "    <tr>\n",
       "      <th>4</th>\n",
       "      <td>3500</td>\n",
       "      <td>400000</td>\n",
       "    </tr>\n",
       "  </tbody>\n",
       "</table>\n",
       "</div>"
      ],
      "text/plain": [
       "   Square Footage   Price\n",
       "0            1500  200000\n",
       "1            1800  250000\n",
       "2            2400  300000\n",
       "3            3000  350000\n",
       "4            3500  400000"
      ]
     },
     "execution_count": 2,
     "metadata": {},
     "output_type": "execute_result"
    }
   ],
   "source": [
    "# Sample dataset (house prices on square footage)\n",
    "data = {'Square Footage' : [1500, 1800, 2400, 3000, 3500, 4000, 4500],\n",
    "        'Price' : [200000, 250000, 300000, 350000, 400000, 500000, 600000]    \n",
    "}\n",
    "# Convert to DataFrame\n",
    "df = pd.DataFrame(data)\n",
    "df.head()"
   ]
  },
  {
   "cell_type": "code",
   "execution_count": 3,
   "id": "cafbe5e3-730a-4b18-8db2-4937e8e28f30",
   "metadata": {},
   "outputs": [
    {
     "name": "stdout",
     "output_type": "stream",
     "text": [
      "Training data : (5, 1), (5,)\n",
      "Testing data : (2, 1), (2,)\n"
     ]
    }
   ],
   "source": [
    "# Features (X) and Target (y)\n",
    "X = df[['Square Footage']]\n",
    "y = df['Price']\n",
    "\n",
    "# Split data into 80% training and 20% testing\n",
    "X_train, X_test, y_train, y_test = train_test_split(X, y, test_size = 0.2, random_state = 42)\n",
    "\n",
    "# Displaying the shape of training and test sets\n",
    "\n",
    "print(f\"Training data : {X_train.shape}, {y_train.shape}\")\n",
    "print(f\"Testing data : {X_test.shape}, {y_test.shape}\")"
   ]
  },
  {
   "cell_type": "code",
   "execution_count": 4,
   "id": "71d0e24a-6d0a-4549-86ee-2502455498cd",
   "metadata": {},
   "outputs": [
    {
     "name": "stdout",
     "output_type": "stream",
     "text": [
      "Intercipt : -68611.5214180206\n",
      "Coefficients : 143.2791728212703\n"
     ]
    }
   ],
   "source": [
    "# Initializing linear regression model\n",
    "model = LinearRegression()\n",
    "\n",
    "# Train the model on training data\n",
    "model.fit(X_train, y_train)\n",
    "\n",
    "# Display the learned coefficinets\n",
    "print(f\"Intercipt : {model.intercept_}\")\n",
    "print(f\"Coefficients : {model.coef_[0]}\")\n"
   ]
  },
  {
   "cell_type": "code",
   "execution_count": 5,
   "id": "10c7bb05-48c2-4338-a834-dcec19b2cbe0",
   "metadata": {},
   "outputs": [
    {
     "name": "stdout",
     "output_type": "stream",
     "text": [
      "Predicted Prices :  [146307.23781388 189290.98966027]\n",
      "Actual Prices :  [200000 250000]\n"
     ]
    }
   ],
   "source": [
    "# Making predictions on the testing set\n",
    "y_pred = model.predict(X_test)\n",
    "\n",
    "# Displaying the predictions\n",
    "print(\"Predicted Prices : \", y_pred)\n",
    "print(\"Actual Prices : \", y_test.values)"
   ]
  },
  {
   "cell_type": "code",
   "execution_count": 7,
   "id": "c622d419-ea8d-45f0-bfbf-bd35659fda65",
   "metadata": {},
   "outputs": [
    {
     "name": "stdout",
     "output_type": "stream",
     "text": [
      "Mean Squared Error: 3284248323.802326\n",
      "R Squared Score: -4.254797318083722\n"
     ]
    }
   ],
   "source": [
    "# Calculate the mean squared error\n",
    "mse = mean_squared_error(y_test, y_pred)\n",
    "\n",
    "# Calculate the R squared\n",
    "r2 = r2_score(y_test, y_pred)\n",
    "\n",
    "# Display the evaluation metrics\n",
    "print(f\"Mean Squared Error: {mse}\")\n",
    "print(f\"R Squared Score: {r2}\")"
   ]
  },
  {
   "cell_type": "code",
   "execution_count": 8,
   "id": "c80aed60-1366-4095-ae34-1e922099a2b8",
   "metadata": {},
   "outputs": [
    {
     "data": {
      "image/png": "[encoded data removed]",
      "text/plain": [
       "<Figure size 640x480 with 1 Axes>"
      ]
     },
     "metadata": {},
     "output_type": "display_data"
    }
   ],
   "source": [
    "# Ploting the data points\n",
    "plt.scatter(X_test, y_test, color = \"blue\", label = \"Actual data\")\n",
    "\n",
    "# Ploting the regression line\n",
    "plt.plot(X_test, y_pred, color = \"red\", label = \"regression Line\")\n",
    "\n",
    "# Adding labels and titles\n",
    "plt.xlabel(\"Square Footage\")\n",
    "plt.ylabel(\"Price\")\n",
    "plt.title(\"House Prices Vs Footage\")\n",
    "plt.legend()\n",
    "\n",
    "plt.show()"
   ]
  },
  {
   "cell_type": "code",
   "execution_count": null,
   "id": "38d9d46e-0cdc-4df8-8ec4-889ebf2e8447",
   "metadata": {},
   "outputs": [],
   "source": []
  }
 ],
 "metadata": {
  "kernelspec": {
   "display_name": "Python 3 (ipykernel)",
   "language": "python",
   "name": "python3"
  },
  "language_info": {
   "codemirror_mode": {
    "name": "ipython",
    "version": 3
   },
   "file_extension": ".py",
   "mimetype": "text/x-python",
   "name": "python",
   "nbconvert_exporter": "python",
   "pygments_lexer": "ipython3",
   "version": "3.10.18"
  }
 },
 "nbformat": 4,
 "nbformat_minor": 5
}
