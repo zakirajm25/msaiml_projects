{
 "cells": [
  {
   "cell_type": "code",
   "execution_count": 9,
   "id": "b9295712",
   "metadata": {},
   "outputs": [],
   "source": [
    "import pandas as pd\n",
    "import numpy as np\n",
    "from sklearn.preprocessing import StandardScaler, MinMaxScaler\n",
    "import missingno as msno"
   ]
  },
  {
   "cell_type": "code",
   "execution_count": 2,
   "id": "0aa48c20",
   "metadata": {},
   "outputs": [
    {
     "data": {
      "text/html": [
       "<div>\n",
       "<style scoped>\n",
       "    .dataframe tbody tr th:only-of-type {\n",
       "        vertical-align: middle;\n",
       "    }\n",
       "\n",
       "    .dataframe tbody tr th {\n",
       "        vertical-align: top;\n",
       "    }\n",
       "\n",
       "    .dataframe thead th {\n",
       "        text-align: right;\n",
       "    }\n",
       "</style>\n",
       "<table border=\"1\" class=\"dataframe\">\n",
       "  <thead>\n",
       "    <tr style=\"text-align: right;\">\n",
       "      <th></th>\n",
       "      <th>First Name</th>\n",
       "      <th>Last Name</th>\n",
       "      <th>Country</th>\n",
       "      <th>age</th>\n",
       "    </tr>\n",
       "  </thead>\n",
       "  <tbody>\n",
       "    <tr>\n",
       "      <th>0</th>\n",
       "      <td>Bob</td>\n",
       "      <td>Smith</td>\n",
       "      <td>United States</td>\n",
       "      <td>24</td>\n",
       "    </tr>\n",
       "    <tr>\n",
       "      <th>1</th>\n",
       "      <td>Alice</td>\n",
       "      <td>Williams</td>\n",
       "      <td>Canada</td>\n",
       "      <td>23</td>\n",
       "    </tr>\n",
       "    <tr>\n",
       "      <th>2</th>\n",
       "      <td>Malcolm</td>\n",
       "      <td>Jone</td>\n",
       "      <td>England</td>\n",
       "      <td>22</td>\n",
       "    </tr>\n",
       "    <tr>\n",
       "      <th>3</th>\n",
       "      <td>Felix</td>\n",
       "      <td>Brown</td>\n",
       "      <td>USA</td>\n",
       "      <td>23</td>\n",
       "    </tr>\n",
       "    <tr>\n",
       "      <th>4</th>\n",
       "      <td>Alex</td>\n",
       "      <td>Cooper</td>\n",
       "      <td>Poland</td>\n",
       "      <td>23</td>\n",
       "    </tr>\n",
       "  </tbody>\n",
       "</table>\n",
       "</div>"
      ],
      "text/plain": [
       "  First Name Last Name        Country  age\n",
       "0        Bob     Smith  United States   24\n",
       "1      Alice  Williams         Canada   23\n",
       "2    Malcolm      Jone        England   22\n",
       "3      Felix     Brown            USA   23\n",
       "4       Alex    Cooper         Poland   23"
      ]
     },
     "execution_count": 2,
     "metadata": {},
     "output_type": "execute_result"
    }
   ],
   "source": [
    "df = pd.read_csv('people-example.csv')\n",
    "df.head()"
   ]
  },
  {
   "cell_type": "code",
   "execution_count": null,
   "id": "9eec38de",
   "metadata": {},
   "outputs": [],
   "source": [
    "msno.matrix(df)\n",
    "msno.heatmap(df)\n",
    "\n",
    "\n",
    "df_cleaned = df.dropna()\n",
    "\n",
    "#df_filled = df.fillna(df_cleaned.mean())"
   ]
  },
  {
   "cell_type": "code",
   "execution_count": null,
   "id": "4303a8ce",
   "metadata": {},
   "outputs": [],
   "source": [
    "# Identify outliers using Z-score\n",
    "from scipy import stats\n",
    "\n",
    "z_scores = np.abs(stats.zscore(df_cleaned))\n",
    "df_no_outliers = df_cleaned[(z_scores < 3).all(axis=1)]\n",
    "\n",
    "# Or cap outliers at a threshold\n",
    "upper_limit = df_cleaned['column_name'].quantile(0.95)\n",
    "df_cleaned['column_name'] = np.where(df_cleaned['column_name'] > upper_limit, upper_limit, df_cleaned['column_name'])"
   ]
  },
  {
   "cell_type": "markdown",
   "id": "c3a11a3d",
   "metadata": {},
   "source": [
    "Normalize or scale your data to ensure that all features contribute equally to the model:"
   ]
  },
  {
   "cell_type": "code",
   "execution_count": null,
   "id": "d713e09b",
   "metadata": {},
   "outputs": [],
   "source": [
    "# Min-Max Scaling\n",
    "scaler = MinMaxScaler()\n",
    "df_scaled = pd.DataFrame(scaler.fit_transform(df_cleaned), columns=df_cleaned.columns)\n",
    "\n",
    "# Z-score Standardization\n",
    "scaler = StandardScaler()\n",
    "df_standardized = pd.DataFrame(scaler.fit_transform(df_cleaned), columns=df_cleaned.columns)"
   ]
  },
  {
   "cell_type": "code",
   "execution_count": null,
   "id": "6142d722",
   "metadata": {},
   "outputs": [],
   "source": [
    "# One-hot encoding for categorical variables\n",
    "df_encoded = pd.get_dummies(df_scaled, columns=['categorical_column_name'])"
   ]
  },
  {
   "cell_type": "code",
   "execution_count": null,
   "id": "a6e341dc",
   "metadata": {},
   "outputs": [],
   "source": [
    "# Save the cleaned and preprocessed DataFrame to a new CSV file  \n",
    "df_encoded.to_csv('cleaned_preprocessed_data.csv', index=False)\n",
    "\n",
    "print('Data cleaning and preprocessing complete. File saved as cleaned_preprocessed_data.csv')"
   ]
  },
  {
   "cell_type": "markdown",
   "id": "b501128a",
   "metadata": {},
   "source": [
    "To streamline your data preprocessing workflow, consider wrapping these steps into functions or a reusable script. Here’s a basic structure:"
   ]
  },
  {
   "cell_type": "markdown",
   "id": "43f54110",
   "metadata": {},
   "source": [
    "def load_data(filepath):\n",
    "    return pd.read_csv(filepath)\n",
    "\n",
    "def handle_missing_values(df):\n",
    "    return df.fillna(df.mean())\n",
    "\n",
    "def remove_outliers(df):\n",
    "    z_scores = np.abs(stats.zscore(df))\n",
    "    return df[(z_scores < 3).all(axis=1)]\n",
    "\n",
    "def scale_data(df):\n",
    "    scaler = StandardScaler()\n",
    "    return pd.DataFrame(scaler.fit_transform(df), columns=df.columns)\n",
    "\n",
    "def encode_categorical(df, categorical_columns):\n",
    "    return pd.get_dummies(df, columns=categorical_columns)\n",
    "\n",
    "def save_data(df, output_filepath):\n",
    "    df.to_csv(output_filepath, index=False)\n",
    "\n",
    "# Example usage:\n",
    "df = load_data('your_dataset.csv')\n",
    "df = handle_missing_values(df)\n",
    "df = remove_outliers(df)\n",
    "df = scale_data(df)\n",
    "df = encode_categorical(df, ['categorical_column_name'])\n",
    "save_data(df, 'cleaned_preprocessed_data.csv')"
   ]
  }
 ],
 "metadata": {
  "kernelspec": {
   "display_name": "msaiml",
   "language": "python",
   "name": "python3"
  },
  "language_info": {
   "codemirror_mode": {
    "name": "ipython",
    "version": 3
   },
   "file_extension": ".py",
   "mimetype": "text/x-python",
   "name": "python",
   "nbconvert_exporter": "python",
   "pygments_lexer": "ipython3",
   "version": "3.10.18"
  }
 },
 "nbformat": 4,
 "nbformat_minor": 5
}
